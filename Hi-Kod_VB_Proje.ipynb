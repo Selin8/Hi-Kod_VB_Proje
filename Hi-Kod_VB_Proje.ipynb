{
 "cells": [
  {
   "cell_type": "markdown",
   "id": "f58d791b",
   "metadata": {},
   "source": [
    "# Hi-Kod Veri Bilimi Atölyesi Mezuniyet Projesi\n",
    "## COVİD'in Psikolojik Etkilerinin Araştırılması"
   ]
  },
  {
   "cell_type": "markdown",
   "id": "050d1764",
   "metadata": {},
   "source": [
    "Veri Kümesi Hakkında\n",
    "İnsanların karantinaya ilişkin görüşlerini anlamak için 2020'de yapılan anketin yanıtları. Veri kümesi Google Formlar yardımıyla toplandı. Veriler, insanlar tarafından sağlanan çeşitli soruların yanıtlarını içerir. Formdaki soruların çoğu, büyük/küçük harfe duyarlı sorunlardan kaçınmak için çoktan seçmeli olarak sunuldu. Bu veri seti bir araştırma makalesi yayınlamak için kullanıldı.\n"
   ]
  },
  {
   "cell_type": "markdown",
   "id": "98a3688e",
   "metadata": {},
   "source": [
    "## Bu Projede Neler Var?\n",
    "1. [Verinin İçeriği](#1)\n",
    "1. [Kütüphanelerin İndirimesi](#2)\n",
    "1. [Verinin Yüklenmesi ve İncelenmesi](#3)\n",
    "1. [Veri Temizleme ve Ön İşleme](#4)\n",
    "   1. Kayıp Değerlerin Tespiti\n",
    "   1. Gereksiz Değişkenlerin Çıkarılması\n",
    "   1. Değerlerin Kontrolü\n",
    "1. [Veri Görselleştirme](#5)\n",
    "   1. Tek Değişen Analizi\n",
    "   1. Çoklu Değişen Analizi\n",
    "1. [Modelleme](#6)\n",
    "   1. Logistic Regression\n",
    "   1. K- Nearest Neighbors\n",
    "   1. Decision Tree\n",
    "   1. Random Forest\n",
    "   1. Support Vector Machine"
   ]
  },
  {
   "cell_type": "markdown",
   "id": "1cf4566f",
   "metadata": {},
   "source": [
    "<a id=\"1\"></aa>\n",
    "### Verinin İçeriği\n",
    "* **age:** Kişinin yaş grubu    \n",
    "* **gender:** Kişinin cinsiyeti   \n",
    "* **occupation:** Kişinin çalıştığı meslek/sektör   \n",
    "* **line_of_work:** Kişinin gerçekleştirdiği iş kolu   \n",
    "* **time_bp:** Pandemiden önce işte geçirilen süre  \n",
    "* **time_dp:** Pandemi sırasında işte geçirilen süre    \n",
    "* **travel_time:** Harcanan seyahat süresi   \n",
    "* **easyof_online:** Çevrimiçi çalışmanın derecelendirmesi  \n",
    "* **home_env:** Ev ortamını sevme    \n",
    "* **prod_inc:** Verimlilik artışı değerlendirmesi   \n",
    "* **sleep_bal:** Uyku döngüsünün derecelendirilmesi   \n",
    "* **new_skill:** Herhangi bir yeni becerinin öğrenilip öğrenilmediği  \n",
    "* **fam_connect:** Kişinin ailesiyle ne kadar iyi bağlantı kurduğunu derecelendirilmesi \n",
    "* **relaxed:** Kişinin ne kadar rahat hissettiğinin derecelendirilmesi  \n",
    "* **self_time:** Ne kadar kişisel zaman elde edildiğinin değerlendirilmesi   \n",
    "* **like_hw:** Evden çalışmayı sevmek    \n",
    "* **dislike_hw:** Evden çalışmayı sevmemek    \n",
    "* **prefer:** Kişinin evden/ofisten çalışma tercihi    \n",
    "* **certaindays_hw:** Belirli günlerin evden çalışmanın gerekli olup olmadığını beğenmek     \n",
    "* **X:** Özel Sütun   \n",
    "* **time_bp.1:** Özel Sütun   \n",
    "* **travel_new:** Özel Sütun  \n",
    "* **net_diff:** Özel Sütun "
   ]
  },
  {
   "cell_type": "markdown",
   "id": "7bf87363",
   "metadata": {},
   "source": [
    "<a id=\"2\"></aa>\n",
    "### Kütüphanelerin İndirimesi "
   ]
  },
  {
   "cell_type": "code",
   "execution_count": 44,
   "id": "9b438851",
   "metadata": {},
   "outputs": [],
   "source": [
    "import numpy as np\n",
    "import pandas as pd \n",
    "import matplotlib.pyplot as plt\n",
    "import seaborn as sns\n",
    "from sklearn.svm import SVC\n",
    "from sklearn import svm\n",
    "from sklearn.metrics import r2_score\n",
    "from sklearn.metrics import accuracy_score\n",
    "from sklearn.metrics import confusion_matrix\n",
    "from sklearn.preprocessing import StandardScaler\n",
    "from sklearn.metrics import classification_report\n",
    "from sklearn.tree import DecisionTreeClassifier\n",
    "from sklearn.neighbors import KNeighborsClassifier\n",
    "from sklearn.ensemble import RandomForestClassifier\n",
    "from sklearn.model_selection import train_test_split\n",
    "from sklearn.linear_model import LinearRegression, Ridge, Lasso, LogisticRegression"
   ]
  },
  {
   "cell_type": "markdown",
   "id": "a3393f5c",
   "metadata": {},
   "source": [
    "<a id=\"3\"></aa>\n",
    "### Verinin Yüklenmesi ve İncelenmesi"
   ]
  },
  {
   "cell_type": "code",
   "execution_count": 2,
   "id": "9e306a19",
   "metadata": {},
   "outputs": [],
   "source": [
    "data= pd.read_csv(\"C:/Users/Selin Şahin/Desktop/psyco.csv\")"
   ]
  },
  {
   "cell_type": "code",
   "execution_count": 3,
   "id": "0f2eb804",
   "metadata": {},
   "outputs": [
    {
     "data": {
      "text/html": [
       "<div>\n",
       "<style scoped>\n",
       "    .dataframe tbody tr th:only-of-type {\n",
       "        vertical-align: middle;\n",
       "    }\n",
       "\n",
       "    .dataframe tbody tr th {\n",
       "        vertical-align: top;\n",
       "    }\n",
       "\n",
       "    .dataframe thead th {\n",
       "        text-align: right;\n",
       "    }\n",
       "</style>\n",
       "<table border=\"1\" class=\"dataframe\">\n",
       "  <thead>\n",
       "    <tr style=\"text-align: right;\">\n",
       "      <th></th>\n",
       "      <th>age</th>\n",
       "      <th>gender</th>\n",
       "      <th>occupation</th>\n",
       "      <th>line_of_work</th>\n",
       "      <th>time_bp</th>\n",
       "      <th>time_dp</th>\n",
       "      <th>travel_time</th>\n",
       "      <th>easeof_online</th>\n",
       "      <th>home_env</th>\n",
       "      <th>prod_inc</th>\n",
       "      <th>...</th>\n",
       "      <th>fam_connect</th>\n",
       "      <th>relaxed</th>\n",
       "      <th>self_time</th>\n",
       "      <th>like_hw</th>\n",
       "      <th>dislike_hw</th>\n",
       "      <th>prefer</th>\n",
       "      <th>certaindays_hw</th>\n",
       "      <th>Unnamed: 19</th>\n",
       "      <th>time_bp.1</th>\n",
       "      <th>travel+work</th>\n",
       "    </tr>\n",
       "  </thead>\n",
       "  <tbody>\n",
       "    <tr>\n",
       "      <th>0</th>\n",
       "      <td>19-25</td>\n",
       "      <td>Male</td>\n",
       "      <td>Student in College</td>\n",
       "      <td>NaN</td>\n",
       "      <td>7</td>\n",
       "      <td>5</td>\n",
       "      <td>0.5</td>\n",
       "      <td>3</td>\n",
       "      <td>3</td>\n",
       "      <td>0.0</td>\n",
       "      <td>...</td>\n",
       "      <td>1.0</td>\n",
       "      <td>-0.5</td>\n",
       "      <td>-0.5</td>\n",
       "      <td>100</td>\n",
       "      <td>1</td>\n",
       "      <td>Complete Physical Attendance</td>\n",
       "      <td>Yes</td>\n",
       "      <td>NaN</td>\n",
       "      <td>7</td>\n",
       "      <td>NaN</td>\n",
       "    </tr>\n",
       "    <tr>\n",
       "      <th>1</th>\n",
       "      <td>Dec-18</td>\n",
       "      <td>Male</td>\n",
       "      <td>Student in School</td>\n",
       "      <td>NaN</td>\n",
       "      <td>7</td>\n",
       "      <td>11</td>\n",
       "      <td>0.5</td>\n",
       "      <td>4</td>\n",
       "      <td>2</td>\n",
       "      <td>-0.5</td>\n",
       "      <td>...</td>\n",
       "      <td>1.0</td>\n",
       "      <td>1.0</td>\n",
       "      <td>1.0</td>\n",
       "      <td>1111</td>\n",
       "      <td>1110</td>\n",
       "      <td>Complete Physical Attendance</td>\n",
       "      <td>No</td>\n",
       "      <td>NaN</td>\n",
       "      <td>7</td>\n",
       "      <td>NaN</td>\n",
       "    </tr>\n",
       "    <tr>\n",
       "      <th>2</th>\n",
       "      <td>19-25</td>\n",
       "      <td>Male</td>\n",
       "      <td>Student in College</td>\n",
       "      <td>NaN</td>\n",
       "      <td>7</td>\n",
       "      <td>7</td>\n",
       "      <td>1.5</td>\n",
       "      <td>2</td>\n",
       "      <td>2</td>\n",
       "      <td>1.0</td>\n",
       "      <td>...</td>\n",
       "      <td>0.5</td>\n",
       "      <td>0.5</td>\n",
       "      <td>0.5</td>\n",
       "      <td>1100</td>\n",
       "      <td>111</td>\n",
       "      <td>Complete Physical Attendance</td>\n",
       "      <td>Yes</td>\n",
       "      <td>NaN</td>\n",
       "      <td>7</td>\n",
       "      <td>NaN</td>\n",
       "    </tr>\n",
       "    <tr>\n",
       "      <th>3</th>\n",
       "      <td>19-25</td>\n",
       "      <td>Male</td>\n",
       "      <td>Student in College</td>\n",
       "      <td>NaN</td>\n",
       "      <td>7</td>\n",
       "      <td>7</td>\n",
       "      <td>1.5</td>\n",
       "      <td>3</td>\n",
       "      <td>1</td>\n",
       "      <td>0.0</td>\n",
       "      <td>...</td>\n",
       "      <td>0.0</td>\n",
       "      <td>-1.0</td>\n",
       "      <td>-0.5</td>\n",
       "      <td>100</td>\n",
       "      <td>1111</td>\n",
       "      <td>Complete Physical Attendance</td>\n",
       "      <td>Yes</td>\n",
       "      <td>NaN</td>\n",
       "      <td>7</td>\n",
       "      <td>NaN</td>\n",
       "    </tr>\n",
       "    <tr>\n",
       "      <th>4</th>\n",
       "      <td>19-25</td>\n",
       "      <td>Female</td>\n",
       "      <td>Student in College</td>\n",
       "      <td>NaN</td>\n",
       "      <td>7</td>\n",
       "      <td>7</td>\n",
       "      <td>1.5</td>\n",
       "      <td>2</td>\n",
       "      <td>2</td>\n",
       "      <td>0.0</td>\n",
       "      <td>...</td>\n",
       "      <td>0.0</td>\n",
       "      <td>0.5</td>\n",
       "      <td>0.0</td>\n",
       "      <td>1010</td>\n",
       "      <td>1000</td>\n",
       "      <td>Complete Physical Attendance</td>\n",
       "      <td>Yes</td>\n",
       "      <td>NaN</td>\n",
       "      <td>7</td>\n",
       "      <td>NaN</td>\n",
       "    </tr>\n",
       "  </tbody>\n",
       "</table>\n",
       "<p>5 rows × 22 columns</p>\n",
       "</div>"
      ],
      "text/plain": [
       "      age  gender          occupation line_of_work  time_bp  time_dp  \\\n",
       "0   19-25    Male  Student in College          NaN        7        5   \n",
       "1  Dec-18    Male   Student in School          NaN        7       11   \n",
       "2   19-25    Male  Student in College          NaN        7        7   \n",
       "3   19-25    Male  Student in College          NaN        7        7   \n",
       "4   19-25  Female  Student in College          NaN        7        7   \n",
       "\n",
       "   travel_time  easeof_online  home_env  prod_inc  ...  fam_connect  relaxed  \\\n",
       "0          0.5              3         3       0.0  ...          1.0     -0.5   \n",
       "1          0.5              4         2      -0.5  ...          1.0      1.0   \n",
       "2          1.5              2         2       1.0  ...          0.5      0.5   \n",
       "3          1.5              3         1       0.0  ...          0.0     -1.0   \n",
       "4          1.5              2         2       0.0  ...          0.0      0.5   \n",
       "\n",
       "   self_time  like_hw  dislike_hw                        prefer  \\\n",
       "0       -0.5      100           1  Complete Physical Attendance   \n",
       "1        1.0     1111        1110  Complete Physical Attendance   \n",
       "2        0.5     1100         111  Complete Physical Attendance   \n",
       "3       -0.5      100        1111  Complete Physical Attendance   \n",
       "4        0.0     1010        1000  Complete Physical Attendance   \n",
       "\n",
       "   certaindays_hw Unnamed: 19 time_bp.1  travel+work  \n",
       "0             Yes         NaN         7          NaN  \n",
       "1              No         NaN         7          NaN  \n",
       "2             Yes         NaN         7          NaN  \n",
       "3             Yes         NaN         7          NaN  \n",
       "4             Yes         NaN         7          NaN  \n",
       "\n",
       "[5 rows x 22 columns]"
      ]
     },
     "execution_count": 3,
     "metadata": {},
     "output_type": "execute_result"
    }
   ],
   "source": [
    "data.head()"
   ]
  },
  {
   "cell_type": "code",
   "execution_count": 4,
   "id": "73950bae",
   "metadata": {},
   "outputs": [
    {
     "name": "stdout",
     "output_type": "stream",
     "text": [
      "<class 'pandas.core.frame.DataFrame'>\n",
      "RangeIndex: 1175 entries, 0 to 1174\n",
      "Data columns (total 22 columns):\n",
      " #   Column          Non-Null Count  Dtype  \n",
      "---  ------          --------------  -----  \n",
      " 0   age             1175 non-null   object \n",
      " 1   gender          1175 non-null   object \n",
      " 2   occupation      1175 non-null   object \n",
      " 3   line_of_work    479 non-null    object \n",
      " 4   time_bp         1175 non-null   int64  \n",
      " 5   time_dp         1175 non-null   int64  \n",
      " 6   travel_time     1175 non-null   float64\n",
      " 7   easeof_online   1175 non-null   int64  \n",
      " 8   home_env        1175 non-null   int64  \n",
      " 9   prod_inc        1175 non-null   float64\n",
      " 10  sleep_bal       1175 non-null   float64\n",
      " 11  new_skill       1175 non-null   float64\n",
      " 12  fam_connect     1175 non-null   float64\n",
      " 13  relaxed         1175 non-null   float64\n",
      " 14  self_time       1175 non-null   float64\n",
      " 15  like_hw         1175 non-null   int64  \n",
      " 16  dislike_hw      1175 non-null   int64  \n",
      " 17  prefer          1175 non-null   object \n",
      " 18  certaindays_hw  1175 non-null   object \n",
      " 19  Unnamed: 19     0 non-null      float64\n",
      " 20  time_bp.1       1175 non-null   int64  \n",
      " 21  travel+work     0 non-null      float64\n",
      "dtypes: float64(9), int64(7), object(6)\n",
      "memory usage: 202.1+ KB\n"
     ]
    }
   ],
   "source": [
    "data.info()"
   ]
  },
  {
   "cell_type": "code",
   "execution_count": 5,
   "id": "8ec8f13a",
   "metadata": {},
   "outputs": [
    {
     "data": {
      "text/plain": [
       "Index(['age', 'gender', 'occupation', 'line_of_work', 'time_bp', 'time_dp',\n",
       "       'travel_time', 'easeof_online', 'home_env', 'prod_inc', 'sleep_bal',\n",
       "       'new_skill', 'fam_connect', 'relaxed', 'self_time', 'like_hw',\n",
       "       'dislike_hw', 'prefer', 'certaindays_hw', 'Unnamed: 19', 'time_bp.1',\n",
       "       'travel+work'],\n",
       "      dtype='object')"
      ]
     },
     "execution_count": 5,
     "metadata": {},
     "output_type": "execute_result"
    }
   ],
   "source": [
    "data.columns"
   ]
  },
  {
   "cell_type": "code",
   "execution_count": 6,
   "id": "b4a7332e",
   "metadata": {},
   "outputs": [
    {
     "data": {
      "text/html": [
       "<div>\n",
       "<style scoped>\n",
       "    .dataframe tbody tr th:only-of-type {\n",
       "        vertical-align: middle;\n",
       "    }\n",
       "\n",
       "    .dataframe tbody tr th {\n",
       "        vertical-align: top;\n",
       "    }\n",
       "\n",
       "    .dataframe thead th {\n",
       "        text-align: right;\n",
       "    }\n",
       "</style>\n",
       "<table border=\"1\" class=\"dataframe\">\n",
       "  <thead>\n",
       "    <tr style=\"text-align: right;\">\n",
       "      <th></th>\n",
       "      <th>time_bp</th>\n",
       "      <th>time_dp</th>\n",
       "      <th>travel_time</th>\n",
       "      <th>easeof_online</th>\n",
       "      <th>home_env</th>\n",
       "      <th>prod_inc</th>\n",
       "      <th>sleep_bal</th>\n",
       "      <th>new_skill</th>\n",
       "      <th>fam_connect</th>\n",
       "      <th>relaxed</th>\n",
       "      <th>self_time</th>\n",
       "      <th>like_hw</th>\n",
       "      <th>dislike_hw</th>\n",
       "      <th>Unnamed: 19</th>\n",
       "      <th>time_bp.1</th>\n",
       "      <th>travel+work</th>\n",
       "    </tr>\n",
       "  </thead>\n",
       "  <tbody>\n",
       "    <tr>\n",
       "      <th>count</th>\n",
       "      <td>1175.000000</td>\n",
       "      <td>1175.000000</td>\n",
       "      <td>1175.000000</td>\n",
       "      <td>1175.000000</td>\n",
       "      <td>1175.000000</td>\n",
       "      <td>1175.000000</td>\n",
       "      <td>1175.000000</td>\n",
       "      <td>1175.000000</td>\n",
       "      <td>1175.000000</td>\n",
       "      <td>1175.000000</td>\n",
       "      <td>1175.000000</td>\n",
       "      <td>1175.000000</td>\n",
       "      <td>1175.000000</td>\n",
       "      <td>0.0</td>\n",
       "      <td>1175.000000</td>\n",
       "      <td>0.0</td>\n",
       "    </tr>\n",
       "    <tr>\n",
       "      <th>mean</th>\n",
       "      <td>7.415319</td>\n",
       "      <td>7.971915</td>\n",
       "      <td>1.027660</td>\n",
       "      <td>2.533617</td>\n",
       "      <td>2.752340</td>\n",
       "      <td>0.008936</td>\n",
       "      <td>-0.108936</td>\n",
       "      <td>0.146809</td>\n",
       "      <td>0.260426</td>\n",
       "      <td>0.035745</td>\n",
       "      <td>0.082979</td>\n",
       "      <td>734.840851</td>\n",
       "      <td>651.067234</td>\n",
       "      <td>NaN</td>\n",
       "      <td>7.415319</td>\n",
       "      <td>NaN</td>\n",
       "    </tr>\n",
       "    <tr>\n",
       "      <th>std</th>\n",
       "      <td>2.005385</td>\n",
       "      <td>2.657007</td>\n",
       "      <td>0.713314</td>\n",
       "      <td>1.267609</td>\n",
       "      <td>1.235799</td>\n",
       "      <td>0.615083</td>\n",
       "      <td>0.621215</td>\n",
       "      <td>0.643686</td>\n",
       "      <td>0.686825</td>\n",
       "      <td>0.626637</td>\n",
       "      <td>0.541434</td>\n",
       "      <td>468.000935</td>\n",
       "      <td>502.319310</td>\n",
       "      <td>NaN</td>\n",
       "      <td>2.005385</td>\n",
       "      <td>NaN</td>\n",
       "    </tr>\n",
       "    <tr>\n",
       "      <th>min</th>\n",
       "      <td>4.000000</td>\n",
       "      <td>4.000000</td>\n",
       "      <td>0.500000</td>\n",
       "      <td>1.000000</td>\n",
       "      <td>1.000000</td>\n",
       "      <td>-1.000000</td>\n",
       "      <td>-1.000000</td>\n",
       "      <td>-1.000000</td>\n",
       "      <td>-1.000000</td>\n",
       "      <td>-1.000000</td>\n",
       "      <td>-1.000000</td>\n",
       "      <td>1.000000</td>\n",
       "      <td>1.000000</td>\n",
       "      <td>NaN</td>\n",
       "      <td>4.000000</td>\n",
       "      <td>NaN</td>\n",
       "    </tr>\n",
       "    <tr>\n",
       "      <th>25%</th>\n",
       "      <td>5.000000</td>\n",
       "      <td>5.000000</td>\n",
       "      <td>0.500000</td>\n",
       "      <td>1.000000</td>\n",
       "      <td>2.000000</td>\n",
       "      <td>-0.500000</td>\n",
       "      <td>-0.500000</td>\n",
       "      <td>-0.500000</td>\n",
       "      <td>0.000000</td>\n",
       "      <td>-0.500000</td>\n",
       "      <td>-0.500000</td>\n",
       "      <td>100.000000</td>\n",
       "      <td>101.000000</td>\n",
       "      <td>NaN</td>\n",
       "      <td>5.000000</td>\n",
       "      <td>NaN</td>\n",
       "    </tr>\n",
       "    <tr>\n",
       "      <th>50%</th>\n",
       "      <td>7.000000</td>\n",
       "      <td>9.000000</td>\n",
       "      <td>0.500000</td>\n",
       "      <td>2.000000</td>\n",
       "      <td>3.000000</td>\n",
       "      <td>0.000000</td>\n",
       "      <td>0.000000</td>\n",
       "      <td>0.500000</td>\n",
       "      <td>0.500000</td>\n",
       "      <td>0.000000</td>\n",
       "      <td>0.000000</td>\n",
       "      <td>1001.000000</td>\n",
       "      <td>1000.000000</td>\n",
       "      <td>NaN</td>\n",
       "      <td>7.000000</td>\n",
       "      <td>NaN</td>\n",
       "    </tr>\n",
       "    <tr>\n",
       "      <th>75%</th>\n",
       "      <td>9.000000</td>\n",
       "      <td>9.000000</td>\n",
       "      <td>1.500000</td>\n",
       "      <td>4.000000</td>\n",
       "      <td>4.000000</td>\n",
       "      <td>0.500000</td>\n",
       "      <td>0.500000</td>\n",
       "      <td>0.500000</td>\n",
       "      <td>1.000000</td>\n",
       "      <td>0.500000</td>\n",
       "      <td>0.500000</td>\n",
       "      <td>1100.000000</td>\n",
       "      <td>1101.000000</td>\n",
       "      <td>NaN</td>\n",
       "      <td>9.000000</td>\n",
       "      <td>NaN</td>\n",
       "    </tr>\n",
       "    <tr>\n",
       "      <th>max</th>\n",
       "      <td>12.000000</td>\n",
       "      <td>12.000000</td>\n",
       "      <td>3.000000</td>\n",
       "      <td>5.000000</td>\n",
       "      <td>5.000000</td>\n",
       "      <td>1.000000</td>\n",
       "      <td>1.000000</td>\n",
       "      <td>1.000000</td>\n",
       "      <td>1.000000</td>\n",
       "      <td>1.000000</td>\n",
       "      <td>1.000000</td>\n",
       "      <td>1111.000000</td>\n",
       "      <td>1111.000000</td>\n",
       "      <td>NaN</td>\n",
       "      <td>12.000000</td>\n",
       "      <td>NaN</td>\n",
       "    </tr>\n",
       "  </tbody>\n",
       "</table>\n",
       "</div>"
      ],
      "text/plain": [
       "           time_bp      time_dp  travel_time  easeof_online     home_env  \\\n",
       "count  1175.000000  1175.000000  1175.000000    1175.000000  1175.000000   \n",
       "mean      7.415319     7.971915     1.027660       2.533617     2.752340   \n",
       "std       2.005385     2.657007     0.713314       1.267609     1.235799   \n",
       "min       4.000000     4.000000     0.500000       1.000000     1.000000   \n",
       "25%       5.000000     5.000000     0.500000       1.000000     2.000000   \n",
       "50%       7.000000     9.000000     0.500000       2.000000     3.000000   \n",
       "75%       9.000000     9.000000     1.500000       4.000000     4.000000   \n",
       "max      12.000000    12.000000     3.000000       5.000000     5.000000   \n",
       "\n",
       "          prod_inc    sleep_bal    new_skill  fam_connect      relaxed  \\\n",
       "count  1175.000000  1175.000000  1175.000000  1175.000000  1175.000000   \n",
       "mean      0.008936    -0.108936     0.146809     0.260426     0.035745   \n",
       "std       0.615083     0.621215     0.643686     0.686825     0.626637   \n",
       "min      -1.000000    -1.000000    -1.000000    -1.000000    -1.000000   \n",
       "25%      -0.500000    -0.500000    -0.500000     0.000000    -0.500000   \n",
       "50%       0.000000     0.000000     0.500000     0.500000     0.000000   \n",
       "75%       0.500000     0.500000     0.500000     1.000000     0.500000   \n",
       "max       1.000000     1.000000     1.000000     1.000000     1.000000   \n",
       "\n",
       "         self_time      like_hw   dislike_hw  Unnamed: 19    time_bp.1  \\\n",
       "count  1175.000000  1175.000000  1175.000000          0.0  1175.000000   \n",
       "mean      0.082979   734.840851   651.067234          NaN     7.415319   \n",
       "std       0.541434   468.000935   502.319310          NaN     2.005385   \n",
       "min      -1.000000     1.000000     1.000000          NaN     4.000000   \n",
       "25%      -0.500000   100.000000   101.000000          NaN     5.000000   \n",
       "50%       0.000000  1001.000000  1000.000000          NaN     7.000000   \n",
       "75%       0.500000  1100.000000  1101.000000          NaN     9.000000   \n",
       "max       1.000000  1111.000000  1111.000000          NaN    12.000000   \n",
       "\n",
       "       travel+work  \n",
       "count          0.0  \n",
       "mean           NaN  \n",
       "std            NaN  \n",
       "min            NaN  \n",
       "25%            NaN  \n",
       "50%            NaN  \n",
       "75%            NaN  \n",
       "max            NaN  "
      ]
     },
     "execution_count": 6,
     "metadata": {},
     "output_type": "execute_result"
    }
   ],
   "source": [
    "data.describe()"
   ]
  },
  {
   "cell_type": "markdown",
   "id": "d850efff",
   "metadata": {},
   "source": [
    "<a id=\"4\"></aa>\n",
    "### Veri Temizleme ve Ön İşleme"
   ]
  },
  {
   "cell_type": "markdown",
   "id": "eb70fae4",
   "metadata": {},
   "source": [
    "##### Kayıp Değerlerin Tespiti"
   ]
  },
  {
   "cell_type": "code",
   "execution_count": 7,
   "id": "ae7d5976",
   "metadata": {},
   "outputs": [
    {
     "data": {
      "text/plain": [
       "age                  0\n",
       "gender               0\n",
       "occupation           0\n",
       "line_of_work       696\n",
       "time_bp              0\n",
       "time_dp              0\n",
       "travel_time          0\n",
       "easeof_online        0\n",
       "home_env             0\n",
       "prod_inc             0\n",
       "sleep_bal            0\n",
       "new_skill            0\n",
       "fam_connect          0\n",
       "relaxed              0\n",
       "self_time            0\n",
       "like_hw              0\n",
       "dislike_hw           0\n",
       "prefer               0\n",
       "certaindays_hw       0\n",
       "Unnamed: 19       1175\n",
       "time_bp.1            0\n",
       "travel+work       1175\n",
       "dtype: int64"
      ]
     },
     "execution_count": 7,
     "metadata": {},
     "output_type": "execute_result"
    }
   ],
   "source": [
    "data.isnull().sum()"
   ]
  },
  {
   "cell_type": "markdown",
   "id": "f4054c56",
   "metadata": {},
   "source": [
    "##### Gereksiz Değişkenlerin Çıkarılması"
   ]
  },
  {
   "cell_type": "code",
   "execution_count": 8,
   "id": "1ddd8a44",
   "metadata": {},
   "outputs": [],
   "source": [
    "data= data.drop(['line_of_work','Unnamed: 19','travel+work','time_bp.1'], axis= 1)"
   ]
  },
  {
   "cell_type": "code",
   "execution_count": 9,
   "id": "9dd398cc",
   "metadata": {},
   "outputs": [
    {
     "data": {
      "text/html": [
       "<div>\n",
       "<style scoped>\n",
       "    .dataframe tbody tr th:only-of-type {\n",
       "        vertical-align: middle;\n",
       "    }\n",
       "\n",
       "    .dataframe tbody tr th {\n",
       "        vertical-align: top;\n",
       "    }\n",
       "\n",
       "    .dataframe thead th {\n",
       "        text-align: right;\n",
       "    }\n",
       "</style>\n",
       "<table border=\"1\" class=\"dataframe\">\n",
       "  <thead>\n",
       "    <tr style=\"text-align: right;\">\n",
       "      <th></th>\n",
       "      <th>age</th>\n",
       "      <th>gender</th>\n",
       "      <th>occupation</th>\n",
       "      <th>time_bp</th>\n",
       "      <th>time_dp</th>\n",
       "      <th>travel_time</th>\n",
       "      <th>easeof_online</th>\n",
       "      <th>home_env</th>\n",
       "      <th>prod_inc</th>\n",
       "      <th>sleep_bal</th>\n",
       "      <th>new_skill</th>\n",
       "      <th>fam_connect</th>\n",
       "      <th>relaxed</th>\n",
       "      <th>self_time</th>\n",
       "      <th>like_hw</th>\n",
       "      <th>dislike_hw</th>\n",
       "      <th>prefer</th>\n",
       "      <th>certaindays_hw</th>\n",
       "    </tr>\n",
       "  </thead>\n",
       "  <tbody>\n",
       "    <tr>\n",
       "      <th>0</th>\n",
       "      <td>19-25</td>\n",
       "      <td>Male</td>\n",
       "      <td>Student in College</td>\n",
       "      <td>7</td>\n",
       "      <td>5</td>\n",
       "      <td>0.5</td>\n",
       "      <td>3</td>\n",
       "      <td>3</td>\n",
       "      <td>0.0</td>\n",
       "      <td>0.0</td>\n",
       "      <td>0.5</td>\n",
       "      <td>1.0</td>\n",
       "      <td>-0.5</td>\n",
       "      <td>-0.5</td>\n",
       "      <td>100</td>\n",
       "      <td>1</td>\n",
       "      <td>Complete Physical Attendance</td>\n",
       "      <td>Yes</td>\n",
       "    </tr>\n",
       "    <tr>\n",
       "      <th>1</th>\n",
       "      <td>Dec-18</td>\n",
       "      <td>Male</td>\n",
       "      <td>Student in School</td>\n",
       "      <td>7</td>\n",
       "      <td>11</td>\n",
       "      <td>0.5</td>\n",
       "      <td>4</td>\n",
       "      <td>2</td>\n",
       "      <td>-0.5</td>\n",
       "      <td>0.5</td>\n",
       "      <td>-1.0</td>\n",
       "      <td>1.0</td>\n",
       "      <td>1.0</td>\n",
       "      <td>1.0</td>\n",
       "      <td>1111</td>\n",
       "      <td>1110</td>\n",
       "      <td>Complete Physical Attendance</td>\n",
       "      <td>No</td>\n",
       "    </tr>\n",
       "    <tr>\n",
       "      <th>2</th>\n",
       "      <td>19-25</td>\n",
       "      <td>Male</td>\n",
       "      <td>Student in College</td>\n",
       "      <td>7</td>\n",
       "      <td>7</td>\n",
       "      <td>1.5</td>\n",
       "      <td>2</td>\n",
       "      <td>2</td>\n",
       "      <td>1.0</td>\n",
       "      <td>0.0</td>\n",
       "      <td>0.5</td>\n",
       "      <td>0.5</td>\n",
       "      <td>0.5</td>\n",
       "      <td>0.5</td>\n",
       "      <td>1100</td>\n",
       "      <td>111</td>\n",
       "      <td>Complete Physical Attendance</td>\n",
       "      <td>Yes</td>\n",
       "    </tr>\n",
       "    <tr>\n",
       "      <th>3</th>\n",
       "      <td>19-25</td>\n",
       "      <td>Male</td>\n",
       "      <td>Student in College</td>\n",
       "      <td>7</td>\n",
       "      <td>7</td>\n",
       "      <td>1.5</td>\n",
       "      <td>3</td>\n",
       "      <td>1</td>\n",
       "      <td>0.0</td>\n",
       "      <td>1.0</td>\n",
       "      <td>0.5</td>\n",
       "      <td>0.0</td>\n",
       "      <td>-1.0</td>\n",
       "      <td>-0.5</td>\n",
       "      <td>100</td>\n",
       "      <td>1111</td>\n",
       "      <td>Complete Physical Attendance</td>\n",
       "      <td>Yes</td>\n",
       "    </tr>\n",
       "    <tr>\n",
       "      <th>4</th>\n",
       "      <td>19-25</td>\n",
       "      <td>Female</td>\n",
       "      <td>Student in College</td>\n",
       "      <td>7</td>\n",
       "      <td>7</td>\n",
       "      <td>1.5</td>\n",
       "      <td>2</td>\n",
       "      <td>2</td>\n",
       "      <td>0.0</td>\n",
       "      <td>0.0</td>\n",
       "      <td>0.0</td>\n",
       "      <td>0.0</td>\n",
       "      <td>0.5</td>\n",
       "      <td>0.0</td>\n",
       "      <td>1010</td>\n",
       "      <td>1000</td>\n",
       "      <td>Complete Physical Attendance</td>\n",
       "      <td>Yes</td>\n",
       "    </tr>\n",
       "  </tbody>\n",
       "</table>\n",
       "</div>"
      ],
      "text/plain": [
       "      age  gender          occupation  time_bp  time_dp  travel_time  \\\n",
       "0   19-25    Male  Student in College        7        5          0.5   \n",
       "1  Dec-18    Male   Student in School        7       11          0.5   \n",
       "2   19-25    Male  Student in College        7        7          1.5   \n",
       "3   19-25    Male  Student in College        7        7          1.5   \n",
       "4   19-25  Female  Student in College        7        7          1.5   \n",
       "\n",
       "   easeof_online  home_env  prod_inc  sleep_bal  new_skill  fam_connect  \\\n",
       "0              3         3       0.0        0.0        0.5          1.0   \n",
       "1              4         2      -0.5        0.5       -1.0          1.0   \n",
       "2              2         2       1.0        0.0        0.5          0.5   \n",
       "3              3         1       0.0        1.0        0.5          0.0   \n",
       "4              2         2       0.0        0.0        0.0          0.0   \n",
       "\n",
       "   relaxed  self_time  like_hw  dislike_hw                        prefer  \\\n",
       "0     -0.5       -0.5      100           1  Complete Physical Attendance   \n",
       "1      1.0        1.0     1111        1110  Complete Physical Attendance   \n",
       "2      0.5        0.5     1100         111  Complete Physical Attendance   \n",
       "3     -1.0       -0.5      100        1111  Complete Physical Attendance   \n",
       "4      0.5        0.0     1010        1000  Complete Physical Attendance   \n",
       "\n",
       "  certaindays_hw  \n",
       "0            Yes  \n",
       "1             No  \n",
       "2            Yes  \n",
       "3            Yes  \n",
       "4            Yes  "
      ]
     },
     "execution_count": 9,
     "metadata": {},
     "output_type": "execute_result"
    }
   ],
   "source": [
    "data.head()"
   ]
  },
  {
   "cell_type": "code",
   "execution_count": 10,
   "id": "7f0a421f",
   "metadata": {},
   "outputs": [
    {
     "data": {
      "text/plain": [
       "18"
      ]
     },
     "execution_count": 10,
     "metadata": {},
     "output_type": "execute_result"
    }
   ],
   "source": [
    "len(data.columns)"
   ]
  },
  {
   "cell_type": "markdown",
   "id": "9eaf2d3d",
   "metadata": {},
   "source": [
    "##### Değerlerin Kontrolü"
   ]
  },
  {
   "cell_type": "code",
   "execution_count": 11,
   "id": "c7f982a2",
   "metadata": {},
   "outputs": [
    {
     "data": {
      "text/plain": [
       "array(['Male', 'Female', 'Prefer not to say'], dtype=object)"
      ]
     },
     "execution_count": 11,
     "metadata": {},
     "output_type": "execute_result"
    }
   ],
   "source": [
    "data.gender.unique()"
   ]
  },
  {
   "cell_type": "code",
   "execution_count": 12,
   "id": "ccff60a5",
   "metadata": {},
   "outputs": [
    {
     "data": {
      "text/plain": [
       "array(['19-25', 'Dec-18', '33-40', '60+', '26-32', '40-50', '50-60'],\n",
       "      dtype=object)"
      ]
     },
     "execution_count": 12,
     "metadata": {},
     "output_type": "execute_result"
    }
   ],
   "source": [
    "data.age.unique()"
   ]
  },
  {
   "cell_type": "code",
   "execution_count": 13,
   "id": "0a832bab",
   "metadata": {},
   "outputs": [
    {
     "data": {
      "text/plain": [
       "0       19-25\n",
       "1        0-18\n",
       "2       19-25\n",
       "3       19-25\n",
       "4       19-25\n",
       "        ...  \n",
       "1170    40-50\n",
       "1171    26-32\n",
       "1172    26-32\n",
       "1173    26-32\n",
       "1174    40-50\n",
       "Name: age, Length: 1175, dtype: object"
      ]
     },
     "execution_count": 13,
     "metadata": {},
     "output_type": "execute_result"
    }
   ],
   "source": [
    "data['age'] = data['age'].replace('Dec-18','0-18')\n",
    "data['age']"
   ]
  },
  {
   "cell_type": "code",
   "execution_count": 14,
   "id": "7e748761",
   "metadata": {},
   "outputs": [
    {
     "data": {
      "text/plain": [
       "array(['Student in College', 'Student in School', 'Working Professional',\n",
       "       'Entrepreneur', 'Retired/Senior Citizen', 'Homemaker',\n",
       "       'Currently Out of Work',\n",
       "       'Medical Professional aiding efforts against COVID-19'],\n",
       "      dtype=object)"
      ]
     },
     "execution_count": 14,
     "metadata": {},
     "output_type": "execute_result"
    }
   ],
   "source": [
    "data['occupation'].unique()"
   ]
  },
  {
   "cell_type": "code",
   "execution_count": 15,
   "id": "3ca9113a",
   "metadata": {},
   "outputs": [],
   "source": [
    "data['occupation'] = data['occupation'].replace('Medical Professional aiding efforts against COVID-19', 'Medical Professional')"
   ]
  },
  {
   "cell_type": "code",
   "execution_count": 16,
   "id": "f1597906",
   "metadata": {},
   "outputs": [
    {
     "data": {
      "text/plain": [
       "array(['Complete Physical Attendance', 'Work/study from home'],\n",
       "      dtype=object)"
      ]
     },
     "execution_count": 16,
     "metadata": {},
     "output_type": "execute_result"
    }
   ],
   "source": [
    "data['prefer'].unique()"
   ]
  },
  {
   "cell_type": "code",
   "execution_count": 17,
   "id": "4ef3c8ec",
   "metadata": {},
   "outputs": [],
   "source": [
    "data['prefer'] = data['prefer'].replace({'Complete Physical Attendance':'Physical', 'Work/study from home':'Remote'})"
   ]
  },
  {
   "cell_type": "code",
   "execution_count": 18,
   "id": "30c6e090",
   "metadata": {},
   "outputs": [
    {
     "data": {
      "text/html": [
       "<div>\n",
       "<style scoped>\n",
       "    .dataframe tbody tr th:only-of-type {\n",
       "        vertical-align: middle;\n",
       "    }\n",
       "\n",
       "    .dataframe tbody tr th {\n",
       "        vertical-align: top;\n",
       "    }\n",
       "\n",
       "    .dataframe thead th {\n",
       "        text-align: right;\n",
       "    }\n",
       "</style>\n",
       "<table border=\"1\" class=\"dataframe\">\n",
       "  <thead>\n",
       "    <tr style=\"text-align: right;\">\n",
       "      <th></th>\n",
       "      <th>age</th>\n",
       "      <th>gender</th>\n",
       "      <th>occupation</th>\n",
       "      <th>time_bp</th>\n",
       "      <th>time_dp</th>\n",
       "      <th>travel_time</th>\n",
       "      <th>easeof_online</th>\n",
       "      <th>home_env</th>\n",
       "      <th>prod_inc</th>\n",
       "      <th>sleep_bal</th>\n",
       "      <th>new_skill</th>\n",
       "      <th>fam_connect</th>\n",
       "      <th>relaxed</th>\n",
       "      <th>self_time</th>\n",
       "      <th>like_hw</th>\n",
       "      <th>dislike_hw</th>\n",
       "      <th>prefer</th>\n",
       "      <th>certaindays_hw</th>\n",
       "    </tr>\n",
       "  </thead>\n",
       "  <tbody>\n",
       "    <tr>\n",
       "      <th>0</th>\n",
       "      <td>19-25</td>\n",
       "      <td>Male</td>\n",
       "      <td>Student in College</td>\n",
       "      <td>7</td>\n",
       "      <td>5</td>\n",
       "      <td>0.5</td>\n",
       "      <td>3</td>\n",
       "      <td>3</td>\n",
       "      <td>0.0</td>\n",
       "      <td>0.0</td>\n",
       "      <td>0.5</td>\n",
       "      <td>1.0</td>\n",
       "      <td>-0.5</td>\n",
       "      <td>-0.5</td>\n",
       "      <td>100</td>\n",
       "      <td>1</td>\n",
       "      <td>Physical</td>\n",
       "      <td>Yes</td>\n",
       "    </tr>\n",
       "    <tr>\n",
       "      <th>1</th>\n",
       "      <td>0-18</td>\n",
       "      <td>Male</td>\n",
       "      <td>Student in School</td>\n",
       "      <td>7</td>\n",
       "      <td>11</td>\n",
       "      <td>0.5</td>\n",
       "      <td>4</td>\n",
       "      <td>2</td>\n",
       "      <td>-0.5</td>\n",
       "      <td>0.5</td>\n",
       "      <td>-1.0</td>\n",
       "      <td>1.0</td>\n",
       "      <td>1.0</td>\n",
       "      <td>1.0</td>\n",
       "      <td>1111</td>\n",
       "      <td>1110</td>\n",
       "      <td>Physical</td>\n",
       "      <td>No</td>\n",
       "    </tr>\n",
       "    <tr>\n",
       "      <th>2</th>\n",
       "      <td>19-25</td>\n",
       "      <td>Male</td>\n",
       "      <td>Student in College</td>\n",
       "      <td>7</td>\n",
       "      <td>7</td>\n",
       "      <td>1.5</td>\n",
       "      <td>2</td>\n",
       "      <td>2</td>\n",
       "      <td>1.0</td>\n",
       "      <td>0.0</td>\n",
       "      <td>0.5</td>\n",
       "      <td>0.5</td>\n",
       "      <td>0.5</td>\n",
       "      <td>0.5</td>\n",
       "      <td>1100</td>\n",
       "      <td>111</td>\n",
       "      <td>Physical</td>\n",
       "      <td>Yes</td>\n",
       "    </tr>\n",
       "    <tr>\n",
       "      <th>3</th>\n",
       "      <td>19-25</td>\n",
       "      <td>Male</td>\n",
       "      <td>Student in College</td>\n",
       "      <td>7</td>\n",
       "      <td>7</td>\n",
       "      <td>1.5</td>\n",
       "      <td>3</td>\n",
       "      <td>1</td>\n",
       "      <td>0.0</td>\n",
       "      <td>1.0</td>\n",
       "      <td>0.5</td>\n",
       "      <td>0.0</td>\n",
       "      <td>-1.0</td>\n",
       "      <td>-0.5</td>\n",
       "      <td>100</td>\n",
       "      <td>1111</td>\n",
       "      <td>Physical</td>\n",
       "      <td>Yes</td>\n",
       "    </tr>\n",
       "    <tr>\n",
       "      <th>4</th>\n",
       "      <td>19-25</td>\n",
       "      <td>Female</td>\n",
       "      <td>Student in College</td>\n",
       "      <td>7</td>\n",
       "      <td>7</td>\n",
       "      <td>1.5</td>\n",
       "      <td>2</td>\n",
       "      <td>2</td>\n",
       "      <td>0.0</td>\n",
       "      <td>0.0</td>\n",
       "      <td>0.0</td>\n",
       "      <td>0.0</td>\n",
       "      <td>0.5</td>\n",
       "      <td>0.0</td>\n",
       "      <td>1010</td>\n",
       "      <td>1000</td>\n",
       "      <td>Physical</td>\n",
       "      <td>Yes</td>\n",
       "    </tr>\n",
       "  </tbody>\n",
       "</table>\n",
       "</div>"
      ],
      "text/plain": [
       "     age  gender          occupation  time_bp  time_dp  travel_time  \\\n",
       "0  19-25    Male  Student in College        7        5          0.5   \n",
       "1   0-18    Male   Student in School        7       11          0.5   \n",
       "2  19-25    Male  Student in College        7        7          1.5   \n",
       "3  19-25    Male  Student in College        7        7          1.5   \n",
       "4  19-25  Female  Student in College        7        7          1.5   \n",
       "\n",
       "   easeof_online  home_env  prod_inc  sleep_bal  new_skill  fam_connect  \\\n",
       "0              3         3       0.0        0.0        0.5          1.0   \n",
       "1              4         2      -0.5        0.5       -1.0          1.0   \n",
       "2              2         2       1.0        0.0        0.5          0.5   \n",
       "3              3         1       0.0        1.0        0.5          0.0   \n",
       "4              2         2       0.0        0.0        0.0          0.0   \n",
       "\n",
       "   relaxed  self_time  like_hw  dislike_hw    prefer certaindays_hw  \n",
       "0     -0.5       -0.5      100           1  Physical            Yes  \n",
       "1      1.0        1.0     1111        1110  Physical             No  \n",
       "2      0.5        0.5     1100         111  Physical            Yes  \n",
       "3     -1.0       -0.5      100        1111  Physical            Yes  \n",
       "4      0.5        0.0     1010        1000  Physical            Yes  "
      ]
     },
     "execution_count": 18,
     "metadata": {},
     "output_type": "execute_result"
    }
   ],
   "source": [
    "data.head()"
   ]
  },
  {
   "cell_type": "markdown",
   "id": "1acf62f7",
   "metadata": {},
   "source": [
    "<a id=\"5\"></aa>\n",
    "### Veri Görselleştirme"
   ]
  },
  {
   "cell_type": "markdown",
   "id": "4afa5961",
   "metadata": {},
   "source": [
    "##### Tek Değişen Analizi"
   ]
  },
  {
   "cell_type": "code",
   "execution_count": 19,
   "id": "b3de2ba8",
   "metadata": {},
   "outputs": [
    {
     "data": {
      "text/plain": [
       "Male                 649\n",
       "Female               518\n",
       "Prefer not to say      8\n",
       "Name: gender, dtype: int64"
      ]
     },
     "execution_count": 19,
     "metadata": {},
     "output_type": "execute_result"
    }
   ],
   "source": [
    "data.gender.value_counts()"
   ]
  },
  {
   "cell_type": "code",
   "execution_count": 20,
   "id": "60c8b9a2",
   "metadata": {},
   "outputs": [
    {
     "data": {
      "text/plain": [
       "Working Professional      479\n",
       "Student in College        358\n",
       "Entrepreneur              119\n",
       "Homemaker                  82\n",
       "Medical Professional       73\n",
       "Currently Out of Work      44\n",
       "Student in School          18\n",
       "Retired/Senior Citizen      2\n",
       "Name: occupation, dtype: int64"
      ]
     },
     "execution_count": 20,
     "metadata": {},
     "output_type": "execute_result"
    }
   ],
   "source": [
    "data.occupation.value_counts()"
   ]
  },
  {
   "cell_type": "code",
   "execution_count": 21,
   "id": "9441dce3",
   "metadata": {},
   "outputs": [
    {
     "data": {
      "text/plain": [
       "19-25    345\n",
       "26-32    261\n",
       "40-50    181\n",
       "50-60    170\n",
       "33-40    102\n",
       "0-18      74\n",
       "60+       42\n",
       "Name: age, dtype: int64"
      ]
     },
     "execution_count": 21,
     "metadata": {},
     "output_type": "execute_result"
    }
   ],
   "source": [
    "data.age.value_counts()"
   ]
  },
  {
   "cell_type": "code",
   "execution_count": 22,
   "id": "be792f97",
   "metadata": {},
   "outputs": [
    {
     "data": {
      "text/plain": [
       "Yes      568\n",
       "No       309\n",
       "Maybe    298\n",
       "Name: certaindays_hw, dtype: int64"
      ]
     },
     "execution_count": 22,
     "metadata": {},
     "output_type": "execute_result"
    }
   ],
   "source": [
    "data.certaindays_hw.value_counts()"
   ]
  },
  {
   "cell_type": "markdown",
   "id": "356d895d",
   "metadata": {},
   "source": [
    "##### Çoklu Değişen Analizi"
   ]
  },
  {
   "cell_type": "code",
   "execution_count": 23,
   "id": "94c3c3c9",
   "metadata": {},
   "outputs": [],
   "source": [
    "occupation_time_data = data[['occupation', 'time_bp', 'time_dp']]"
   ]
  },
  {
   "cell_type": "code",
   "execution_count": 24,
   "id": "94ea53d9",
   "metadata": {},
   "outputs": [
    {
     "data": {
      "image/png": "[encoded data removed]",
      "text/plain": [
       "<Figure size 800x500 with 1 Axes>"
      ]
     },
     "metadata": {},
     "output_type": "display_data"
    }
   ],
   "source": [
    "occupation_avg_time = occupation_time_data.groupby('occupation').mean()\n",
    "occupation_avg_time.plot(kind='bar', figsize=(8, 5), color=['lightgreen','salmon'])\n",
    "plt.xlabel('Meslekler')\n",
    "plt.ylabel('Ortalama Çalışma Saatleri')\n",
    "plt.title('Mesleklere Göre Pandemi Öncesi ve Sırasındaki Ortalama Çalışma Saatleri')\n",
    "plt.xticks(rotation= 45)\n",
    "plt.legend(['Pandemiden Önceki Zaman', 'Pandemi Sırasındaki Zaman'])\n",
    "plt.tight_layout()\n",
    "plt.show()"
   ]
  },
  {
   "cell_type": "code",
   "execution_count": 25,
   "id": "e1cb4da0",
   "metadata": {},
   "outputs": [
    {
     "data": {
      "image/png": "[encoded data removed]",
      "text/plain": [
       "<Figure size 640x480 with 1 Axes>"
      ]
     },
     "metadata": {},
     "output_type": "display_data"
    }
   ],
   "source": [
    "list = [\"travel_time\",\"prod_inc\",\"sleep_bal\",\"new_skill\",\"fam_connect\",\"relaxed\",\"self_time\"]\n",
    "sns.boxplot(data.loc[:, list], orient = \"v\", palette = \"Set3\")\n",
    "plt.ylabel('Değişen Aralığı')\n",
    "plt.title('Boxplot')\n",
    "plt.xticks(rotation= 45)\n",
    "plt.show()"
   ]
  },
  {
   "cell_type": "code",
   "execution_count": 26,
   "id": "ff3836d0",
   "metadata": {},
   "outputs": [
    {
     "data": {
      "image/png": "[encoded data removed]",
      "text/plain": [
       "<Figure size 800x500 with 1 Axes>"
      ]
     },
     "metadata": {},
     "output_type": "display_data"
    }
   ],
   "source": [
    "fig= plt.subplots(figsize=(8, 5))\n",
    "sns.countplot(x='occupation', hue='gender', data=data, palette=['lightblue', 'pink','lightgreen'])\n",
    "plt.title('Cinsiyete Göre Meslek Dağılımı')\n",
    "plt.xlabel('Meslek')\n",
    "plt.ylabel('Kişi Sayısı')\n",
    "plt.legend(['Erkek', 'Kadın','Belirtmek İstemeyen'])\n",
    "plt.xticks(rotation= 45)\n",
    "plt.show()"
   ]
  },
  {
   "cell_type": "code",
   "execution_count": 27,
   "id": "e7df8261",
   "metadata": {},
   "outputs": [
    {
     "data": {
      "image/png": "[encoded data removed]",
      "text/plain": [
       "<Figure size 800x400 with 1 Axes>"
      ]
     },
     "metadata": {},
     "output_type": "display_data"
    }
   ],
   "source": [
    "fig= plt.subplots(figsize=(8, 4))\n",
    "sns.countplot(x='prefer', hue='gender', data=data, palette=['lightblue', 'pink','lightgreen'])\n",
    "plt.title('Cinsiyete Göre Çalışma Şekli Tercihi')\n",
    "plt.xlabel('Evden/Ofisten Çalışma Şekli Tercihi')\n",
    "plt.ylabel('Kişi Sayısı')\n",
    "plt.legend(['Erkek', 'Kadın','Belirtmek İstemeyen'])\n",
    "plt.show()"
   ]
  },
  {
   "cell_type": "code",
   "execution_count": 28,
   "id": "2a7a9a72",
   "metadata": {},
   "outputs": [
    {
     "data": {
      "text/html": [
       "<div>\n",
       "<style scoped>\n",
       "    .dataframe tbody tr th:only-of-type {\n",
       "        vertical-align: middle;\n",
       "    }\n",
       "\n",
       "    .dataframe tbody tr th {\n",
       "        vertical-align: top;\n",
       "    }\n",
       "\n",
       "    .dataframe thead th {\n",
       "        text-align: right;\n",
       "    }\n",
       "</style>\n",
       "<table border=\"1\" class=\"dataframe\">\n",
       "  <thead>\n",
       "    <tr style=\"text-align: right;\">\n",
       "      <th></th>\n",
       "      <th>time_bp</th>\n",
       "      <th>time_dp</th>\n",
       "      <th>travel_time</th>\n",
       "      <th>prod_inc</th>\n",
       "      <th>sleep_bal</th>\n",
       "      <th>new_skill</th>\n",
       "      <th>fam_connect</th>\n",
       "      <th>relaxed</th>\n",
       "      <th>self_time</th>\n",
       "      <th>like_hw</th>\n",
       "      <th>dislike_hw</th>\n",
       "    </tr>\n",
       "  </thead>\n",
       "  <tbody>\n",
       "    <tr>\n",
       "      <th>0</th>\n",
       "      <td>7</td>\n",
       "      <td>5</td>\n",
       "      <td>0.5</td>\n",
       "      <td>0.0</td>\n",
       "      <td>0.0</td>\n",
       "      <td>0.5</td>\n",
       "      <td>1.0</td>\n",
       "      <td>-0.5</td>\n",
       "      <td>-0.5</td>\n",
       "      <td>100</td>\n",
       "      <td>1</td>\n",
       "    </tr>\n",
       "    <tr>\n",
       "      <th>1</th>\n",
       "      <td>7</td>\n",
       "      <td>11</td>\n",
       "      <td>0.5</td>\n",
       "      <td>-0.5</td>\n",
       "      <td>0.5</td>\n",
       "      <td>-1.0</td>\n",
       "      <td>1.0</td>\n",
       "      <td>1.0</td>\n",
       "      <td>1.0</td>\n",
       "      <td>1111</td>\n",
       "      <td>1110</td>\n",
       "    </tr>\n",
       "    <tr>\n",
       "      <th>2</th>\n",
       "      <td>7</td>\n",
       "      <td>7</td>\n",
       "      <td>1.5</td>\n",
       "      <td>1.0</td>\n",
       "      <td>0.0</td>\n",
       "      <td>0.5</td>\n",
       "      <td>0.5</td>\n",
       "      <td>0.5</td>\n",
       "      <td>0.5</td>\n",
       "      <td>1100</td>\n",
       "      <td>111</td>\n",
       "    </tr>\n",
       "    <tr>\n",
       "      <th>3</th>\n",
       "      <td>7</td>\n",
       "      <td>7</td>\n",
       "      <td>1.5</td>\n",
       "      <td>0.0</td>\n",
       "      <td>1.0</td>\n",
       "      <td>0.5</td>\n",
       "      <td>0.0</td>\n",
       "      <td>-1.0</td>\n",
       "      <td>-0.5</td>\n",
       "      <td>100</td>\n",
       "      <td>1111</td>\n",
       "    </tr>\n",
       "    <tr>\n",
       "      <th>4</th>\n",
       "      <td>7</td>\n",
       "      <td>7</td>\n",
       "      <td>1.5</td>\n",
       "      <td>0.0</td>\n",
       "      <td>0.0</td>\n",
       "      <td>0.0</td>\n",
       "      <td>0.0</td>\n",
       "      <td>0.5</td>\n",
       "      <td>0.0</td>\n",
       "      <td>1010</td>\n",
       "      <td>1000</td>\n",
       "    </tr>\n",
       "  </tbody>\n",
       "</table>\n",
       "</div>"
      ],
      "text/plain": [
       "   time_bp  time_dp  travel_time  prod_inc  sleep_bal  new_skill  fam_connect  \\\n",
       "0        7        5          0.5       0.0        0.0        0.5          1.0   \n",
       "1        7       11          0.5      -0.5        0.5       -1.0          1.0   \n",
       "2        7        7          1.5       1.0        0.0        0.5          0.5   \n",
       "3        7        7          1.5       0.0        1.0        0.5          0.0   \n",
       "4        7        7          1.5       0.0        0.0        0.0          0.0   \n",
       "\n",
       "   relaxed  self_time  like_hw  dislike_hw  \n",
       "0     -0.5       -0.5      100           1  \n",
       "1      1.0        1.0     1111        1110  \n",
       "2      0.5        0.5     1100         111  \n",
       "3     -1.0       -0.5      100        1111  \n",
       "4      0.5        0.0     1010        1000  "
      ]
     },
     "execution_count": 28,
     "metadata": {},
     "output_type": "execute_result"
    }
   ],
   "source": [
    "list_numeric= [\"time_bp\",\"time_dp\",\"travel_time\",\"prod_inc\",\"sleep_bal\",\"new_skill\",\"fam_connect\",\"relaxed\",\"self_time\",\"like_hw\",\"dislike_hw\"]\n",
    "numeric = data.loc[:, list_numeric]\n",
    "numeric.head()"
   ]
  },
  {
   "cell_type": "code",
   "execution_count": 29,
   "id": "292ea46f",
   "metadata": {},
   "outputs": [
    {
     "data": {
      "image/png": "[encoded data removed]",
      "text/plain": [
       "<Figure size 800x800 with 2 Axes>"
      ]
     },
     "metadata": {},
     "output_type": "display_data"
    }
   ],
   "source": [
    "corr= numeric.corr()\n",
    "mask= np.triu(np.ones_like(corr, dtype=bool))\n",
    "f,ax= plt.subplots(figsize=(8, 8))\n",
    "cmap= sns.diverging_palette(230, 20, as_cmap=True)\n",
    "sns.heatmap(corr, mask=mask, annot = True, cmap=cmap, vmax=.3, center=0,\n",
    "            square=True, linewidths=.7, cbar_kws={\"shrink\": .5}, fmt = \".2f\")\n",
    "plt.title('Değişkenlerin Korelasyon Matrisi')\n",
    "plt.show()"
   ]
  },
  {
   "cell_type": "markdown",
   "id": "102a3526",
   "metadata": {},
   "source": [
    "<a id=\"6\"></aa>\n",
    "### Modelleme"
   ]
  },
  {
   "cell_type": "code",
   "execution_count": 30,
   "id": "f5d57c34",
   "metadata": {},
   "outputs": [],
   "source": [
    "datac = data.copy()"
   ]
  },
  {
   "cell_type": "code",
   "execution_count": 31,
   "id": "2d3cc64c",
   "metadata": {},
   "outputs": [
    {
     "data": {
      "text/html": [
       "<div>\n",
       "<style scoped>\n",
       "    .dataframe tbody tr th:only-of-type {\n",
       "        vertical-align: middle;\n",
       "    }\n",
       "\n",
       "    .dataframe tbody tr th {\n",
       "        vertical-align: top;\n",
       "    }\n",
       "\n",
       "    .dataframe thead th {\n",
       "        text-align: right;\n",
       "    }\n",
       "</style>\n",
       "<table border=\"1\" class=\"dataframe\">\n",
       "  <thead>\n",
       "    <tr style=\"text-align: right;\">\n",
       "      <th></th>\n",
       "      <th>time_bp</th>\n",
       "      <th>time_dp</th>\n",
       "      <th>travel_time</th>\n",
       "      <th>prod_inc</th>\n",
       "      <th>sleep_bal</th>\n",
       "      <th>new_skill</th>\n",
       "      <th>fam_connect</th>\n",
       "      <th>relaxed</th>\n",
       "      <th>self_time</th>\n",
       "      <th>like_hw</th>\n",
       "      <th>...</th>\n",
       "      <th>easeof_online_4</th>\n",
       "      <th>easeof_online_5</th>\n",
       "      <th>home_env_1</th>\n",
       "      <th>home_env_2</th>\n",
       "      <th>home_env_3</th>\n",
       "      <th>home_env_4</th>\n",
       "      <th>home_env_5</th>\n",
       "      <th>certaindays_hw_Maybe</th>\n",
       "      <th>certaindays_hw_No</th>\n",
       "      <th>certaindays_hw_Yes</th>\n",
       "    </tr>\n",
       "  </thead>\n",
       "  <tbody>\n",
       "    <tr>\n",
       "      <th>0</th>\n",
       "      <td>7</td>\n",
       "      <td>5</td>\n",
       "      <td>0.5</td>\n",
       "      <td>0.0</td>\n",
       "      <td>0.0</td>\n",
       "      <td>0.5</td>\n",
       "      <td>1.0</td>\n",
       "      <td>-0.5</td>\n",
       "      <td>-0.5</td>\n",
       "      <td>100</td>\n",
       "      <td>...</td>\n",
       "      <td>0</td>\n",
       "      <td>0</td>\n",
       "      <td>0</td>\n",
       "      <td>0</td>\n",
       "      <td>1</td>\n",
       "      <td>0</td>\n",
       "      <td>0</td>\n",
       "      <td>0</td>\n",
       "      <td>0</td>\n",
       "      <td>1</td>\n",
       "    </tr>\n",
       "    <tr>\n",
       "      <th>1</th>\n",
       "      <td>7</td>\n",
       "      <td>11</td>\n",
       "      <td>0.5</td>\n",
       "      <td>-0.5</td>\n",
       "      <td>0.5</td>\n",
       "      <td>-1.0</td>\n",
       "      <td>1.0</td>\n",
       "      <td>1.0</td>\n",
       "      <td>1.0</td>\n",
       "      <td>1111</td>\n",
       "      <td>...</td>\n",
       "      <td>1</td>\n",
       "      <td>0</td>\n",
       "      <td>0</td>\n",
       "      <td>1</td>\n",
       "      <td>0</td>\n",
       "      <td>0</td>\n",
       "      <td>0</td>\n",
       "      <td>0</td>\n",
       "      <td>1</td>\n",
       "      <td>0</td>\n",
       "    </tr>\n",
       "    <tr>\n",
       "      <th>2</th>\n",
       "      <td>7</td>\n",
       "      <td>7</td>\n",
       "      <td>1.5</td>\n",
       "      <td>1.0</td>\n",
       "      <td>0.0</td>\n",
       "      <td>0.5</td>\n",
       "      <td>0.5</td>\n",
       "      <td>0.5</td>\n",
       "      <td>0.5</td>\n",
       "      <td>1100</td>\n",
       "      <td>...</td>\n",
       "      <td>0</td>\n",
       "      <td>0</td>\n",
       "      <td>0</td>\n",
       "      <td>1</td>\n",
       "      <td>0</td>\n",
       "      <td>0</td>\n",
       "      <td>0</td>\n",
       "      <td>0</td>\n",
       "      <td>0</td>\n",
       "      <td>1</td>\n",
       "    </tr>\n",
       "    <tr>\n",
       "      <th>3</th>\n",
       "      <td>7</td>\n",
       "      <td>7</td>\n",
       "      <td>1.5</td>\n",
       "      <td>0.0</td>\n",
       "      <td>1.0</td>\n",
       "      <td>0.5</td>\n",
       "      <td>0.0</td>\n",
       "      <td>-1.0</td>\n",
       "      <td>-0.5</td>\n",
       "      <td>100</td>\n",
       "      <td>...</td>\n",
       "      <td>0</td>\n",
       "      <td>0</td>\n",
       "      <td>1</td>\n",
       "      <td>0</td>\n",
       "      <td>0</td>\n",
       "      <td>0</td>\n",
       "      <td>0</td>\n",
       "      <td>0</td>\n",
       "      <td>0</td>\n",
       "      <td>1</td>\n",
       "    </tr>\n",
       "    <tr>\n",
       "      <th>4</th>\n",
       "      <td>7</td>\n",
       "      <td>7</td>\n",
       "      <td>1.5</td>\n",
       "      <td>0.0</td>\n",
       "      <td>0.0</td>\n",
       "      <td>0.0</td>\n",
       "      <td>0.0</td>\n",
       "      <td>0.5</td>\n",
       "      <td>0.0</td>\n",
       "      <td>1010</td>\n",
       "      <td>...</td>\n",
       "      <td>0</td>\n",
       "      <td>0</td>\n",
       "      <td>0</td>\n",
       "      <td>1</td>\n",
       "      <td>0</td>\n",
       "      <td>0</td>\n",
       "      <td>0</td>\n",
       "      <td>0</td>\n",
       "      <td>0</td>\n",
       "      <td>1</td>\n",
       "    </tr>\n",
       "  </tbody>\n",
       "</table>\n",
       "<p>5 rows × 43 columns</p>\n",
       "</div>"
      ],
      "text/plain": [
       "   time_bp  time_dp  travel_time  prod_inc  sleep_bal  new_skill  fam_connect  \\\n",
       "0        7        5          0.5       0.0        0.0        0.5          1.0   \n",
       "1        7       11          0.5      -0.5        0.5       -1.0          1.0   \n",
       "2        7        7          1.5       1.0        0.0        0.5          0.5   \n",
       "3        7        7          1.5       0.0        1.0        0.5          0.0   \n",
       "4        7        7          1.5       0.0        0.0        0.0          0.0   \n",
       "\n",
       "   relaxed  self_time  like_hw  ...  easeof_online_4 easeof_online_5  \\\n",
       "0     -0.5       -0.5      100  ...                0               0   \n",
       "1      1.0        1.0     1111  ...                1               0   \n",
       "2      0.5        0.5     1100  ...                0               0   \n",
       "3     -1.0       -0.5      100  ...                0               0   \n",
       "4      0.5        0.0     1010  ...                0               0   \n",
       "\n",
       "   home_env_1  home_env_2  home_env_3  home_env_4  home_env_5  \\\n",
       "0           0           0           1           0           0   \n",
       "1           0           1           0           0           0   \n",
       "2           0           1           0           0           0   \n",
       "3           1           0           0           0           0   \n",
       "4           0           1           0           0           0   \n",
       "\n",
       "   certaindays_hw_Maybe  certaindays_hw_No  certaindays_hw_Yes  \n",
       "0                     0                  0                   1  \n",
       "1                     0                  1                   0  \n",
       "2                     0                  0                   1  \n",
       "3                     0                  0                   1  \n",
       "4                     0                  0                   1  \n",
       "\n",
       "[5 rows x 43 columns]"
      ]
     },
     "execution_count": 31,
     "metadata": {},
     "output_type": "execute_result"
    }
   ],
   "source": [
    "new_data = pd.get_dummies(datac, columns = ['age', 'gender','occupation','easeof_online','home_env','certaindays_hw'])\n",
    "new_data.head()"
   ]
  },
  {
   "cell_type": "code",
   "execution_count": 32,
   "id": "e86fe8c7",
   "metadata": {},
   "outputs": [
    {
     "data": {
      "text/plain": [
       "(1175, 43)"
      ]
     },
     "execution_count": 32,
     "metadata": {},
     "output_type": "execute_result"
    }
   ],
   "source": [
    "new_data.shape"
   ]
  },
  {
   "cell_type": "code",
   "execution_count": 33,
   "id": "5424d988",
   "metadata": {},
   "outputs": [],
   "source": [
    "X = new_data.drop(columns='prefer', axis=1)\n",
    "y = new_data[\"prefer\"]"
   ]
  },
  {
   "cell_type": "code",
   "execution_count": 34,
   "id": "0144d819",
   "metadata": {},
   "outputs": [],
   "source": [
    "ss = StandardScaler()\n",
    "X_scaler = ss.fit_transform(X)"
   ]
  },
  {
   "cell_type": "code",
   "execution_count": 35,
   "id": "60db29d6",
   "metadata": {},
   "outputs": [],
   "source": [
    "X_train, X_test, y_train, y_test = train_test_split(X_scaler, y, test_size= 0.2, random_state= 0)"
   ]
  },
  {
   "cell_type": "code",
   "execution_count": 36,
   "id": "ba16e810",
   "metadata": {},
   "outputs": [
    {
     "data": {
      "text/plain": [
       "(940, 42)"
      ]
     },
     "execution_count": 36,
     "metadata": {},
     "output_type": "execute_result"
    }
   ],
   "source": [
    "X_train.shape"
   ]
  },
  {
   "cell_type": "code",
   "execution_count": 37,
   "id": "a4c6be75",
   "metadata": {},
   "outputs": [
    {
     "data": {
      "text/plain": [
       "(235, 42)"
      ]
     },
     "execution_count": 37,
     "metadata": {},
     "output_type": "execute_result"
    }
   ],
   "source": [
    "X_test.shape"
   ]
  },
  {
   "cell_type": "markdown",
   "id": "abe69cda",
   "metadata": {},
   "source": [
    "#### Logistic Regression"
   ]
  },
  {
   "cell_type": "code",
   "execution_count": 38,
   "id": "150aa06a",
   "metadata": {},
   "outputs": [
    {
     "name": "stdout",
     "output_type": "stream",
     "text": [
      "Accuracy Score 88.93617021276596\n",
      "\n",
      "Classification Report: \n",
      "               precision    recall  f1-score   support\n",
      "\n",
      "    Physical       0.90      0.94      0.92       158\n",
      "      Remote       0.86      0.79      0.82        77\n",
      "\n",
      "    accuracy                           0.89       235\n",
      "   macro avg       0.88      0.86      0.87       235\n",
      "weighted avg       0.89      0.89      0.89       235\n",
      "\n"
     ]
    }
   ],
   "source": [
    "clf = LogisticRegression()\n",
    "clf.fit(X_train, y_train)\n",
    "y_pred = clf.predict(X_test)\n",
    "print( 'Accuracy Score',accuracy_score(y_test, y_pred)*100)\n",
    "print(\"\\nClassification Report: \\n\", classification_report(y_test, y_pred))"
   ]
  },
  {
   "cell_type": "markdown",
   "id": "8d7dc731",
   "metadata": {},
   "source": [
    "#### K- Nearest Neighbors"
   ]
  },
  {
   "cell_type": "code",
   "execution_count": 39,
   "id": "1c15c799",
   "metadata": {},
   "outputs": [
    {
     "name": "stdout",
     "output_type": "stream",
     "text": [
      "Accuracy Score 90.2127659574468\n",
      "\n",
      "Classification Report: \n",
      "               precision    recall  f1-score   support\n",
      "\n",
      "    Physical       0.91      0.95      0.93       158\n",
      "      Remote       0.89      0.81      0.84        77\n",
      "\n",
      "    accuracy                           0.90       235\n",
      "   macro avg       0.90      0.88      0.89       235\n",
      "weighted avg       0.90      0.90      0.90       235\n",
      "\n"
     ]
    }
   ],
   "source": [
    "knn1 = KNeighborsClassifier(n_neighbors=3)\n",
    "knn1.fit(X_train, y_train)\n",
    "y_pred = knn1.predict(X_test)\n",
    "print( 'Accuracy Score',accuracy_score(y_test, y_pred)*100)\n",
    "print(\"\\nClassification Report: \\n\", classification_report(y_test, y_pred))"
   ]
  },
  {
   "cell_type": "markdown",
   "id": "30260ce4",
   "metadata": {},
   "source": [
    "#### Decision Tree"
   ]
  },
  {
   "cell_type": "code",
   "execution_count": 40,
   "id": "5f1e9cf5",
   "metadata": {},
   "outputs": [
    {
     "name": "stdout",
     "output_type": "stream",
     "text": [
      "Accuracy Score 91.06382978723404\n",
      "\n",
      "Classification Report: \n",
      "               precision    recall  f1-score   support\n",
      "\n",
      "    Physical       0.94      0.92      0.93       158\n",
      "      Remote       0.85      0.88      0.87        77\n",
      "\n",
      "    accuracy                           0.91       235\n",
      "   macro avg       0.90      0.90      0.90       235\n",
      "weighted avg       0.91      0.91      0.91       235\n",
      "\n"
     ]
    }
   ],
   "source": [
    "dtc = DecisionTreeClassifier(random_state=42)\n",
    "dtc.fit(X_train, y_train)\n",
    "y_pred = dtc.predict(X_test)\n",
    "print( 'Accuracy Score',accuracy_score(y_test, y_pred)*100)\n",
    "print(\"\\nClassification Report: \\n\", classification_report(y_test, y_pred))"
   ]
  },
  {
   "cell_type": "markdown",
   "id": "94b76e35",
   "metadata": {},
   "source": [
    "#### Random Forest"
   ]
  },
  {
   "cell_type": "code",
   "execution_count": 41,
   "id": "e6d25ccc",
   "metadata": {},
   "outputs": [
    {
     "name": "stdout",
     "output_type": "stream",
     "text": [
      "Accuracy Score 82.5531914893617\n",
      "\n",
      "Classification Report: \n",
      "               precision    recall  f1-score   support\n",
      "\n",
      "    Physical       0.80      0.99      0.88       158\n",
      "      Remote       0.97      0.48      0.64        77\n",
      "\n",
      "    accuracy                           0.83       235\n",
      "   macro avg       0.89      0.74      0.76       235\n",
      "weighted avg       0.85      0.83      0.81       235\n",
      "\n"
     ]
    }
   ],
   "source": [
    "rf = RandomForestClassifier(max_depth=2, random_state=0)\n",
    "rf.fit(X_train, y_train)\n",
    "y_pred = rf.predict(X_test)\n",
    "print( 'Accuracy Score',accuracy_score(y_test, y_pred)*100)\n",
    "print(\"\\nClassification Report: \\n\", classification_report(y_test, y_pred))"
   ]
  },
  {
   "cell_type": "markdown",
   "id": "2037e423",
   "metadata": {},
   "source": [
    "####  Support Vector Machine"
   ]
  },
  {
   "cell_type": "code",
   "execution_count": 42,
   "id": "c04b1989",
   "metadata": {},
   "outputs": [
    {
     "name": "stdout",
     "output_type": "stream",
     "text": [
      "Accuracy Score 91.06382978723404\n",
      "\n",
      "Classification Report: \n",
      "               precision    recall  f1-score   support\n",
      "\n",
      "    Physical       0.91      0.97      0.94       158\n",
      "      Remote       0.92      0.79      0.85        77\n",
      "\n",
      "    accuracy                           0.91       235\n",
      "   macro avg       0.91      0.88      0.89       235\n",
      "weighted avg       0.91      0.91      0.91       235\n",
      "\n"
     ]
    }
   ],
   "source": [
    "svm = svm.SVC(kernel=\"linear\")\n",
    "svm.fit(X_train,y_train)\n",
    "y_pred = svm.predict(X_test)\n",
    "print( 'Accuracy Score',accuracy_score(y_test, y_pred)*100)\n",
    "print(\"\\nClassification Report: \\n\", classification_report(y_test, y_pred))"
   ]
  },
  {
   "cell_type": "code",
   "execution_count": 45,
   "id": "05721624",
   "metadata": {},
   "outputs": [
    {
     "data": {
      "image/png": "[encoded data removed]",
      "text/plain": [
       "<Figure size 600x400 with 2 Axes>"
      ]
     },
     "metadata": {},
     "output_type": "display_data"
    }
   ],
   "source": [
    "cm = confusion_matrix(y_test, y_pred)\n",
    "plt.figure(figsize=(6, 4))\n",
    "sns.heatmap(cm, annot=True, fmt='d', cmap='Blues', xticklabels=['0', '1'], yticklabels=['0', '1'])\n",
    "plt.xlabel('Predicted')\n",
    "plt.ylabel('Actual')\n",
    "plt.title('Confusion Matrix')\n",
    "plt.show()"
   ]
  }
 ],
 "metadata": {
  "kernelspec": {
   "display_name": "Python 3 (ipykernel)",
   "language": "python",
   "name": "python3"
  },
  "language_info": {
   "codemirror_mode": {
    "name": "ipython",
    "version": 3
   },
   "file_extension": ".py",
   "mimetype": "text/x-python",
   "name": "python",
   "nbconvert_exporter": "python",
   "pygments_lexer": "ipython3",
   "version": "3.11.4"
  }
 },
 "nbformat": 4,
 "nbformat_minor": 5
}
